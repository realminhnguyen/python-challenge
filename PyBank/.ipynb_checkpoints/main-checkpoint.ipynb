{
 "cells": [
  {
   "cell_type": "code",
   "execution_count": 6,
   "id": "d12f8ed6-c9ad-46b7-b601-a03660586da2",
   "metadata": {},
   "outputs": [],
   "source": [
    "# Import necessary libraries and dependencies\n",
    "from pathlib import Path\n",
    "import csv"
   ]
  },
  {
   "cell_type": "code",
   "execution_count": 7,
   "id": "f9c2ecc6-85f2-446a-bf7c-9d17b9843a23",
   "metadata": {
    "tags": []
   },
   "outputs": [],
   "source": [
    "# Setting file path\n",
    "csv_path = Path(\"Resources/budget_data.csv\")"
   ]
  },
  {
   "cell_type": "code",
   "execution_count": 9,
   "id": "ba38452a-d8d8-4b55-b79a-aceef7004130",
   "metadata": {
    "tags": []
   },
   "outputs": [],
   "source": [
    "\"\"\"Our aim is to calcualte each of the following:\n",
    "total number of months included in the dataset\n",
    "- since the dates are split with a '-', perhaps we can utilize the .split() method to separate the months and years. \n",
    "- count the unique months by adding month to a set, that way only unique months are kept per add.\n",
    "\n",
    "net total amount of profit/losses over the entire period\n",
    "- perhaps we can iterate through each row and have a counting variable to hold the profit/losses. \n",
    "\n",
    "avg of the changes in profit/losses over the entire period\n",
    "- \n",
    "- perhaps I can keep track of all of the changes in a list between consecutive \n",
    "- Profit/Loss value and then find the average of these changes.\n",
    "\n",
    "greatest increase in profits (date and amount) over the entire period\n",
    "greatest decrease in losses (data and amount) over the entire period\n",
    "- for greatest changes, I can have some decision trees to set new max/mins when the previous value is surpassed\n",
    "- greatest changes can be computed by comparing previous to current, tracking that, and comparing throughout all values.\n",
    "\n",
    "\"\"\""
   ]
  },
  {
   "cell_type": "code",
   "execution_count": null,
   "id": "f99117d0-975c-4ac7-b1f9-80b32c345a52",
   "metadata": {},
   "outputs": [],
   "source": []
  }
 ],
 "metadata": {
  "kernelspec": {
   "display_name": "Python 3 (ipykernel)",
   "language": "python",
   "name": "python3"
  },
  "language_info": {
   "codemirror_mode": {
    "name": "ipython",
    "version": 3
   },
   "file_extension": ".py",
   "mimetype": "text/x-python",
   "name": "python",
   "nbconvert_exporter": "python",
   "pygments_lexer": "ipython3",
   "version": "3.11.5"
  }
 },
 "nbformat": 4,
 "nbformat_minor": 5
}
