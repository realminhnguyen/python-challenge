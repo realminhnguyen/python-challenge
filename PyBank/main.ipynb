{
 "cells": [
  {
   "cell_type": "code",
   "execution_count": 40,
   "id": "d12f8ed6-c9ad-46b7-b601-a03660586da2",
   "metadata": {},
   "outputs": [],
   "source": [
    "# Import necessary libraries and dependencies\n",
    "from pathlib import Path\n",
    "import csv"
   ]
  },
  {
   "cell_type": "code",
   "execution_count": 41,
   "id": "f9c2ecc6-85f2-446a-bf7c-9d17b9843a23",
   "metadata": {
    "tags": []
   },
   "outputs": [],
   "source": [
    "# Setting file path\n",
    "csv_path = Path(\"Resources/budget_data.csv\")"
   ]
  },
  {
   "cell_type": "code",
   "execution_count": 42,
   "id": "ba38452a-d8d8-4b55-b79a-aceef7004130",
   "metadata": {
    "tags": []
   },
   "outputs": [
    {
     "data": {
      "text/plain": [
       "\"Our aim is to calcualte each of the following:\\ntotal number of months included in the dataset\\n- since the dates are split with a '-', perhaps we can utilize the .split() method to separate the months and years. \\n- count the unique months by adding month to a set, that way only unique months are kept per add.\\n\\nnet total amount of profit/losses over the entire period\\n- perhaps we can iterate through each row and have a counting variable to hold the profit/losses. \\n\\navg of the changes in profit/losses over the entire period\\n- \\n- perhaps I can keep track of all of the changes in a list between consecutive \\n- Profit/Loss value and then find the average of these changes.\\n\\ngreatest increase in profits (date and amount) over the entire period\\ngreatest decrease in losses (data and amount) over the entire period\\n- for greatest changes, I can have some decision trees to set new max/mins when the previous value is surpassed\\n- greatest changes can be computed by comparing previous to current, tracking that, and comparing throughout all values.\\n\\n\""
      ]
     },
     "execution_count": 42,
     "metadata": {},
     "output_type": "execute_result"
    }
   ],
   "source": [
    "\"\"\"Our aim is to calcualte each of the following:\n",
    "total number of months included in the dataset\n",
    "- since the dates are split with a '-', perhaps we can utilize the .split() method to separate the months and years. \n",
    "- count the unique months by adding month to a set, that way only unique months are kept per add.\n",
    "\n",
    "net total amount of profit/losses over the entire period\n",
    "- perhaps we can iterate through each row and have a counting variable to hold the profit/losses. \n",
    "\n",
    "avg of the changes in profit/losses over the entire period\n",
    "- \n",
    "- perhaps I can keep track of all of the changes in a list between consecutive \n",
    "- Profit/Loss value and then find the average of these changes.\n",
    "\n",
    "greatest increase in profits (date and amount) over the entire period\n",
    "greatest decrease in losses (data and amount) over the entire period\n",
    "- for greatest changes, I can have some decision trees to set new max/mins when the previous value is surpassed\n",
    "- greatest changes can be computed by comparing previous to current, tracking that, and comparing throughout all values.\n",
    "\n",
    "\"\"\""
   ]
  },
  {
   "cell_type": "code",
   "execution_count": 43,
   "id": "f99117d0-975c-4ac7-b1f9-80b32c345a52",
   "metadata": {},
   "outputs": [
    {
     "name": "stdout",
     "output_type": "stream",
     "text": [
      "Total Months: 86\n"
     ]
    }
   ],
   "source": [
    "# total number of months included in the dataset\n",
    "unique_months = set()\n",
    "\n",
    "with open(csv_path, 'r') as file:\n",
    "    csv_reader = csv.reader(file)\n",
    "    next(csv_reader) # skips header row \n",
    "    \n",
    "    # Iterate through csv rows and get dates\n",
    "    for row in csv_reader:\n",
    "        date = row[0] # row 0 being first column\n",
    "        month, year = date.split('-') # split by -\n",
    "        unique_months.add(f\"{month}-{year}\")\n",
    "        \n",
    "total_months = len(unique_months) # total months = length of set unique month-year combinations\n",
    "print(f\"Total Months: {total_months}\")"
   ]
  },
  {
   "cell_type": "code",
   "execution_count": 46,
   "id": "bc7efb92-6b27-4acc-b2fd-21b815b43dd9",
   "metadata": {
    "tags": []
   },
   "outputs": [
    {
     "name": "stdout",
     "output_type": "stream",
     "text": [
      "Total: $38382578\n"
     ]
    }
   ],
   "source": [
    "# net total amount of profit/losses over the entire period\n",
    "net_total = 0\n",
    "with open(csv_path, 'r') as file:\n",
    "    csv_reader = csv.reader(file)\n",
    "    next(csv_reader) # skips header row \n",
    "    \n",
    "    for row in csv_reader:\n",
    "        profit_loss = int(row[1])\n",
    "        net_total += profit_loss\n",
    "print(f\"Total: ${net_total}\")"
   ]
  },
  {
   "cell_type": "code",
   "execution_count": 47,
   "id": "ebc0094f-80b0-4823-a1cd-8be8d1e45fa1",
   "metadata": {
    "tags": []
   },
   "outputs": [
    {
     "name": "stdout",
     "output_type": "stream",
     "text": [
      "Average Change: $-2315.12\n"
     ]
    }
   ],
   "source": [
    "# avg of the changes in profit/losses over the entire period\n",
    "previous_profit_loss = 0\n",
    "changes = []\n",
    "\n",
    "with open(csv_path, 'r') as file:\n",
    "    csv_reader = csv.reader(file)\n",
    "    next(csv_reader) # skips header row \n",
    "    \n",
    "    for row in csv_reader: # iterate through csv file\n",
    "        profit_loss = int(row[1]) # profit_loss equal to profit/loss column \n",
    "        \n",
    "        #calculating change in profit/loss\n",
    "        if previous_profit_loss != 0:\n",
    "            change = profit_loss - previous_profit_loss\n",
    "            changes.append(change)\n",
    "        previous_profit_loss = profit_loss\n",
    "        \n",
    "# Calculate the average change\n",
    "average_change = sum(changes) / len(changes) if len(changes) > 0 else 0\n",
    "average_change_round = round(average_change, 2)\n",
    "print(f\"Average Change: ${average_change_round}\")"
   ]
  },
  {
   "cell_type": "code",
   "execution_count": 48,
   "id": "7f142d1b-9aeb-430a-b92c-8c941dcb4241",
   "metadata": {
    "tags": []
   },
   "outputs": [
    {
     "name": "stdout",
     "output_type": "stream",
     "text": [
      "Greatest increase in profits: Feb-2012 ($1926159)\n",
      "Greatest decrease in losses: Sep-2013 ($-2196167)\n"
     ]
    }
   ],
   "source": [
    "# greatest increase in profits (date and amount) over the entire period\n",
    "# greatest decrease in losses (data and amount) over the entire period\n",
    "\n",
    "# initializing variables\n",
    "previous_profit_loss = 0\n",
    "changes = [] # list to track changes\n",
    "dates = [] # list to track dates\n",
    "\n",
    "# Variables to track greatest increase and decrease\n",
    "greatest_increase = 0\n",
    "greatest_decrease = 0\n",
    "increase_date = \"\"\n",
    "decrease_date = \"\"\n",
    "\n",
    "with open(csv_path, 'r') as file:\n",
    "    csv_reader = csv.reader(file)\n",
    "    next(csv_reader) # skips header row \n",
    "    \n",
    "    for row in csv_reader:\n",
    "        date = row[0] # date assigned column1 data\n",
    "        profit_loss = int(row[1]) # profit_loss assigned profit/loss column data\n",
    "        dates.append(date)\n",
    "        \n",
    "        if previous_profit_loss != 0: # if previous profit/loss != 0\n",
    "            change = profit_loss - previous_profit_loss # assign change as current profit/loss minus previous\n",
    "            changes.append(change) # track this change\n",
    "            \n",
    "            # check for greatest increase and decrease\n",
    "            if change > greatest_increase:\n",
    "                greatest_increase = change # if new change greater than current greatest_increase, assign new greatest\n",
    "                increase_date = date\n",
    "            elif change < greatest_decrease:\n",
    "                greatest_decrease = change # if new change less than current greatest_decrease, assign new greatest\n",
    "                decrease_date = date\n",
    "        \n",
    "        previous_profit_loss = profit_loss # update previous_profit_loss as we iterate through the file\n",
    "\n",
    "\n",
    "print(f\"Greatest increase in profits: {increase_date} (${greatest_increase})\")\n",
    "print(f\"Greatest decrease in losses: {decrease_date} (${greatest_decrease})\")"
   ]
  },
  {
   "cell_type": "code",
   "execution_count": 49,
   "id": "16da7b6b-44b7-4df0-af84-43e3bad67757",
   "metadata": {
    "tags": []
   },
   "outputs": [
    {
     "name": "stdout",
     "output_type": "stream",
     "text": [
      "Financial Analysis\n",
      "----------------------------\n",
      "Total Months: 86\n",
      "Total: $38382578\n",
      "Average Change: $-2315.12\n",
      "Greatest Increase in Profits: Feb-2012 ($1926159)\n",
      "Greatest Decrease in Profits: Sep-2013 ($-2196167)\n",
      "\n"
     ]
    }
   ],
   "source": [
    "# preparing resulting analysis similar to the suggestion\n",
    "analysis_report = f\"\"\"Financial Analysis\n",
    "----------------------------\n",
    "Total Months: {total_months}\n",
    "Total: ${net_total}\n",
    "Average Change: ${average_change:.2f}\n",
    "Greatest Increase in Profits: {increase_date} (${greatest_increase})\n",
    "Greatest Decrease in Profits: {decrease_date} (${greatest_decrease})\n",
    "\"\"\"\n",
    "\n",
    "print(analysis_report)"
   ]
  },
  {
   "cell_type": "code",
   "execution_count": 39,
   "id": "13d47dcb-49c7-431f-8181-cf9c130a6f46",
   "metadata": {
    "tags": []
   },
   "outputs": [],
   "source": [
    "# Export the results to a text file\n",
    "output_path = Path(\"financial_analysis.txt\")\n",
    "with open(output_path, 'w') as output_file:\n",
    "    output_file.write(analysis_report) # output file named analysis_report"
   ]
  }
 ],
 "metadata": {
  "kernelspec": {
   "display_name": "Python 3 (ipykernel)",
   "language": "python",
   "name": "python3"
  },
  "language_info": {
   "codemirror_mode": {
    "name": "ipython",
    "version": 3
   },
   "file_extension": ".py",
   "mimetype": "text/x-python",
   "name": "python",
   "nbconvert_exporter": "python",
   "pygments_lexer": "ipython3",
   "version": "3.11.5"
  }
 },
 "nbformat": 4,
 "nbformat_minor": 5
}
